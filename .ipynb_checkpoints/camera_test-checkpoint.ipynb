{
 "cells": [
  {
   "cell_type": "code",
   "execution_count": 1,
   "id": "3cfec1d9",
   "metadata": {},
   "outputs": [],
   "source": [
    "import cv2\n",
    "from object_detector import *\n",
    "import numpy as np"
   ]
  },
  {
   "cell_type": "code",
   "execution_count": 2,
   "id": "545d28b0",
   "metadata": {},
   "outputs": [],
   "source": [
    "class HomogeneousBgDetector():\n",
    "    def __init__(self):\n",
    "        pass\n",
    "\n",
    "    def detect_objects(self, frame):\n",
    "        # Convert Image to grayscale\n",
    "        gray = cv2.cvtColor(frame, cv2.COLOR_BGR2GRAY)\n",
    "\n",
    "        # Create a Mask with adaptive threshold\n",
    "        mask = cv2.adaptiveThreshold(gray, 255, cv2.ADAPTIVE_THRESH_MEAN_C, cv2.THRESH_BINARY_INV, 19, 5)\n",
    "\n",
    "        # Find contours\n",
    "        contours, _ = cv2.findContours(mask, cv2.RETR_EXTERNAL, cv2.CHAIN_APPROX_SIMPLE)\n",
    "\n",
    "        #cv2.imshow(\"mask\", mask)\n",
    "        objects_contours = []\n",
    "\n",
    "        for cnt in contours:\n",
    "            area = cv2.contourArea(cnt)\n",
    "            if area > 2000:\n",
    "                #cnt = cv2.approxPolyDP(cnt, 0.03*cv2.arcLength(cnt, True), True)\n",
    "                objects_contours.append(cnt)\n",
    "\n",
    "        return objects_contours"
   ]
  },
  {
   "cell_type": "code",
   "execution_count": 3,
   "id": "ac1c1d60",
   "metadata": {},
   "outputs": [],
   "source": [
    "# # Load Aruco detector\n",
    "# parameters = cv2.aruco.DetectorParameters_create()\n",
    "# aruco_dict = cv2.aruco.Dictionary_get(cv2.aruco.DICT_5X5_50)\n",
    "\n",
    "parameters = cv2.aruco.DetectorParameters()\n",
    "aruco_dict = cv2.aruco.getPredefinedDictionary(cv2.aruco.DICT_5X5_50)"
   ]
  },
  {
   "cell_type": "code",
   "execution_count": 4,
   "id": "f9724f41",
   "metadata": {},
   "outputs": [],
   "source": [
    "# Load Object Detector\n",
    "detector = HomogeneousBgDetector()"
   ]
  },
  {
   "cell_type": "code",
   "execution_count": 5,
   "id": "8489d6ca",
   "metadata": {},
   "outputs": [
    {
     "data": {
      "text/plain": [
       "True"
      ]
     },
     "execution_count": 5,
     "metadata": {},
     "output_type": "execute_result"
    }
   ],
   "source": [
    "# Load Cap\n",
    "cap = cv2.VideoCapture(0)\n",
    "cap.set(cv2.CAP_PROP_FRAME_WIDTH, 1280)\n",
    "cap.set(cv2.CAP_PROP_FRAME_HEIGHT, 720)\n"
   ]
  },
  {
   "cell_type": "code",
   "execution_count": 6,
   "id": "4ee24f0c",
   "metadata": {},
   "outputs": [
    {
     "ename": "SyntaxError",
     "evalue": "'break' outside loop (1026723647.py, line 47)",
     "output_type": "error",
     "traceback": [
      "\u001b[1;36m  Cell \u001b[1;32mIn[6], line 47\u001b[1;36m\u001b[0m\n\u001b[1;33m    break\u001b[0m\n\u001b[1;37m    ^\u001b[0m\n\u001b[1;31mSyntaxError\u001b[0m\u001b[1;31m:\u001b[0m 'break' outside loop\n"
     ]
    }
   ],
   "source": [
    "cap = cv2.VideoCapture(0)\n",
    "cap.set(cv2.CAP_PROP_FRAME_WIDTH, 1280)\n",
    "cap.set(cv2.CAP_PROP_FRAME_HEIGHT, 720)\n",
    "\n",
    "_, img = cap.read()\n",
    "\n",
    "# Get Aruco marker\n",
    "corners, _, _ = cv2.aruco.detectMarkers(img, aruco_dict, parameters=parameters)\n",
    "if corners:\n",
    "\n",
    "    # Draw polygon around the marker\n",
    "    int_corners = np.int0(corners)\n",
    "    cv2.polylines(img, int_corners, True, (0, 255, 0), 5)\n",
    "\n",
    "    # Aruco Perimeter\n",
    "    aruco_perimeter = cv2.arcLength(corners[0], True)\n",
    "\n",
    "    # Pixel to cm ratio\n",
    "    pixel_cm_ratio = aruco_perimeter / 20\n",
    "\n",
    "    contours = detector.detect_objects(img)\n",
    "\n",
    "    # Draw objects boundaries\n",
    "    for cnt in contours:\n",
    "        # Get rect\n",
    "        rect = cv2.minAreaRect(cnt)\n",
    "        (x, y), (w, h), angle = rect\n",
    "\n",
    "        # Get Width and Height of the Objects by applying the Ratio pixel to cm\n",
    "        object_width = w / pixel_cm_ratio\n",
    "        object_height = h / pixel_cm_ratio\n",
    "\n",
    "        # Display rectangle\n",
    "        box = cv2.boxPoints(rect)\n",
    "        box = np.int0(box)\n",
    "\n",
    "        cv2.circle(img, (int(x), int(y)), 5, (0, 0, 255), -1)\n",
    "        cv2.polylines(img, [box], True, (255, 0, 0), 2)\n",
    "        cv2.putText(img, \"Width {} cm\".format(round(object_width, 1)), (int(x - 100), int(y - 20)), cv2.FONT_HERSHEY_PLAIN, 2, (100, 200, 0), 2)\n",
    "        cv2.putText(img, \"Height {} cm\".format(round(object_height, 1)), (int(x - 100), int(y + 15)), cv2.FONT_HERSHEY_PLAIN, 2, (100, 200, 0), 2)\n",
    "\n",
    "\n",
    "\n",
    "cv2.imshow(\"Image\", img)\n",
    "key = cv2.waitKey(1)\n",
    "if key == 27:\n",
    "    break\n",
    "\n",
    "cap.release()\n",
    "cv2.destroyAllWindows()"
   ]
  }
 ],
 "metadata": {
  "kernelspec": {
   "display_name": "Python 3 (ipykernel)",
   "language": "python",
   "name": "python3"
  },
  "language_info": {
   "codemirror_mode": {
    "name": "ipython",
    "version": 3
   },
   "file_extension": ".py",
   "mimetype": "text/x-python",
   "name": "python",
   "nbconvert_exporter": "python",
   "pygments_lexer": "ipython3",
   "version": "3.10.13"
  }
 },
 "nbformat": 4,
 "nbformat_minor": 5
}
